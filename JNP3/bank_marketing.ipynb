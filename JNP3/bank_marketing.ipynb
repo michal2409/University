{
 "cells": [
  {
   "cell_type": "markdown",
   "metadata": {},
   "source": [
    "# Imports"
   ]
  },
  {
   "cell_type": "code",
   "execution_count": 1,
   "metadata": {
    "ExecuteTime": {
     "end_time": "2019-12-23T20:01:21.743167Z",
     "start_time": "2019-12-23T20:01:20.174604Z"
    }
   },
   "outputs": [],
   "source": [
    "from sklearn.ensemble import RandomForestClassifier, GradientBoostingClassifier\n",
    "from sklearn.metrics import roc_auc_score\n",
    "from sklearn.model_selection import cross_validate\n",
    "from xgboost import XGBClassifier\n",
    "import pandas as pd\n",
    "import seaborn as sns\n",
    "import numpy as np\n",
    "import matplotlib.pyplot as plt\n",
    "import numpy as np"
   ]
  },
  {
   "cell_type": "markdown",
   "metadata": {},
   "source": [
    "# Data loading and splitting into train/test sets"
   ]
  },
  {
   "cell_type": "code",
   "execution_count": 2,
   "metadata": {
    "ExecuteTime": {
     "end_time": "2019-12-23T20:01:23.728330Z",
     "start_time": "2019-12-23T20:01:23.493468Z"
    }
   },
   "outputs": [
    {
     "name": "stdout",
     "output_type": "stream",
     "text": [
      "X_train shape: (20799, 14)\n",
      "X_test  shape: (20389, 14)\n",
      "Training set has 11.44% of y=1 examples\n"
     ]
    },
    {
     "data": {
      "text/html": [
       "<div>\n",
       "<style scoped>\n",
       "    .dataframe tbody tr th:only-of-type {\n",
       "        vertical-align: middle;\n",
       "    }\n",
       "\n",
       "    .dataframe tbody tr th {\n",
       "        vertical-align: top;\n",
       "    }\n",
       "\n",
       "    .dataframe thead th {\n",
       "        text-align: right;\n",
       "    }\n",
       "</style>\n",
       "<table border=\"1\" class=\"dataframe\">\n",
       "  <thead>\n",
       "    <tr style=\"text-align: right;\">\n",
       "      <th></th>\n",
       "      <th>id</th>\n",
       "      <th>birth_date</th>\n",
       "      <th>job</th>\n",
       "      <th>marital</th>\n",
       "      <th>education</th>\n",
       "      <th>default</th>\n",
       "      <th>housing</th>\n",
       "      <th>loan</th>\n",
       "      <th>contact_date</th>\n",
       "      <th>contact</th>\n",
       "      <th>campaign</th>\n",
       "      <th>pdays</th>\n",
       "      <th>previous</th>\n",
       "      <th>poutcome</th>\n",
       "    </tr>\n",
       "  </thead>\n",
       "  <tbody>\n",
       "    <tr>\n",
       "      <td>40395</td>\n",
       "      <td>40396</td>\n",
       "      <td>1962-04-11</td>\n",
       "      <td>admin.</td>\n",
       "      <td>divorced</td>\n",
       "      <td>university.degree</td>\n",
       "      <td>no</td>\n",
       "      <td>no</td>\n",
       "      <td>no</td>\n",
       "      <td>2010-08-05</td>\n",
       "      <td>cellular</td>\n",
       "      <td>3</td>\n",
       "      <td>3</td>\n",
       "      <td>6</td>\n",
       "      <td>success</td>\n",
       "    </tr>\n",
       "    <tr>\n",
       "      <td>33240</td>\n",
       "      <td>33241</td>\n",
       "      <td>1977-09-10</td>\n",
       "      <td>entrepreneur</td>\n",
       "      <td>married</td>\n",
       "      <td>high.school</td>\n",
       "      <td>no</td>\n",
       "      <td>unknown</td>\n",
       "      <td>unknown</td>\n",
       "      <td>2009-05-12</td>\n",
       "      <td>cellular</td>\n",
       "      <td>1</td>\n",
       "      <td>999</td>\n",
       "      <td>0</td>\n",
       "      <td>nonexistent</td>\n",
       "    </tr>\n",
       "    <tr>\n",
       "      <td>10883</td>\n",
       "      <td>10884</td>\n",
       "      <td>1979-08-22</td>\n",
       "      <td>admin.</td>\n",
       "      <td>married</td>\n",
       "      <td>high.school</td>\n",
       "      <td>no</td>\n",
       "      <td>no</td>\n",
       "      <td>yes</td>\n",
       "      <td>2008-06-04</td>\n",
       "      <td>telephone</td>\n",
       "      <td>8</td>\n",
       "      <td>999</td>\n",
       "      <td>0</td>\n",
       "      <td>nonexistent</td>\n",
       "    </tr>\n",
       "    <tr>\n",
       "      <td>18517</td>\n",
       "      <td>18518</td>\n",
       "      <td>1955-04-15</td>\n",
       "      <td>blue-collar</td>\n",
       "      <td>married</td>\n",
       "      <td>basic.4y</td>\n",
       "      <td>unknown</td>\n",
       "      <td>no</td>\n",
       "      <td>no</td>\n",
       "      <td>2008-07-10</td>\n",
       "      <td>cellular</td>\n",
       "      <td>1</td>\n",
       "      <td>999</td>\n",
       "      <td>0</td>\n",
       "      <td>nonexistent</td>\n",
       "    </tr>\n",
       "    <tr>\n",
       "      <td>8404</td>\n",
       "      <td>8405</td>\n",
       "      <td>1965-09-25</td>\n",
       "      <td>blue-collar</td>\n",
       "      <td>married</td>\n",
       "      <td>basic.4y</td>\n",
       "      <td>unknown</td>\n",
       "      <td>yes</td>\n",
       "      <td>no</td>\n",
       "      <td>2008-06-10</td>\n",
       "      <td>telephone</td>\n",
       "      <td>3</td>\n",
       "      <td>999</td>\n",
       "      <td>0</td>\n",
       "      <td>nonexistent</td>\n",
       "    </tr>\n",
       "  </tbody>\n",
       "</table>\n",
       "</div>"
      ],
      "text/plain": [
       "          id birth_date           job   marital          education  default  \\\n",
       "40395  40396 1962-04-11        admin.  divorced  university.degree       no   \n",
       "33240  33241 1977-09-10  entrepreneur   married        high.school       no   \n",
       "10883  10884 1979-08-22        admin.   married        high.school       no   \n",
       "18517  18518 1955-04-15   blue-collar   married           basic.4y  unknown   \n",
       "8404    8405 1965-09-25   blue-collar   married           basic.4y  unknown   \n",
       "\n",
       "       housing     loan contact_date    contact  campaign  pdays  previous  \\\n",
       "40395       no       no   2010-08-05   cellular         3      3         6   \n",
       "33240  unknown  unknown   2009-05-12   cellular         1    999         0   \n",
       "10883       no      yes   2008-06-04  telephone         8    999         0   \n",
       "18517       no       no   2008-07-10   cellular         1    999         0   \n",
       "8404       yes       no   2008-06-10  telephone         3    999         0   \n",
       "\n",
       "          poutcome  \n",
       "40395      success  \n",
       "33240  nonexistent  \n",
       "10883  nonexistent  \n",
       "18517  nonexistent  \n",
       "8404   nonexistent  "
      ]
     },
     "execution_count": 2,
     "metadata": {},
     "output_type": "execute_result"
    }
   ],
   "source": [
    "def load_data(path, verbose=True):\n",
    "    df = pd.read_csv(path, parse_dates=['birth_date', 'contact_date'])\n",
    "    df_train = df.loc[df['y']!='unknown'].sample(frac=1, random_state=0)\n",
    "    df_test = df.loc[df['y']=='unknown']\n",
    "    X_train, y_train = df_train.drop(['y'], axis=1), (df_train['y']=='yes').astype(int)\n",
    "    X_test = df_test.drop(['y'], axis=1)\n",
    "    \n",
    "    if verbose:\n",
    "        print(f\"X_train shape: {str(X_train.shape)}\")\n",
    "        print(f\"X_test  shape: {str(X_test.shape)}\")\n",
    "        print(f\"Training set has {100*y_train.mean():.2f}% of y=1 examples\")\n",
    "    \n",
    "    return {\"X_train\": X_train, \"y_train\": y_train, \"X_test\": X_test}\n",
    "\n",
    "data = load_data(\"data/bank-classification.csv\")\n",
    "data['X_train'].head()"
   ]
  },
  {
   "cell_type": "markdown",
   "metadata": {},
   "source": [
    "# Distribution of categorical features"
   ]
  },
  {
   "cell_type": "code",
   "execution_count": 3,
   "metadata": {
    "ExecuteTime": {
     "end_time": "2019-12-23T20:01:28.421798Z",
     "start_time": "2019-12-23T20:01:26.088303Z"
    }
   },
   "outputs": [
    {
     "name": "stdout",
     "output_type": "stream",
     "text": [
      "count      20799\n",
      "unique        12\n",
      "top       admin.\n",
      "freq        5284\n",
      "Name: job, dtype: object\n",
      "mode:  0    admin.\n",
      "dtype: object\n",
      "==============================\n",
      "admin.           5284\n",
      "blue-collar      4708\n",
      "technician       3365\n",
      "services         1995\n",
      "management       1485\n",
      "retired           874\n",
      "entrepreneur      745\n",
      "self-employed     699\n",
      "housemaid         522\n",
      "unemployed        496\n",
      "student           444\n",
      "unknown           182\n",
      "Name: job, dtype: int64\n"
     ]
    },
    {
     "data": {
      "image/png": "[encoded data removed]",
      "text/plain": [
       "<Figure size 432x288 with 1 Axes>"
      ]
     },
     "metadata": {
      "needs_background": "light"
     },
     "output_type": "display_data"
    },
    {
     "name": "stdout",
     "output_type": "stream",
     "text": [
      "count        20799\n",
      "unique           2\n",
      "top       cellular\n",
      "freq         13212\n",
      "Name: contact, dtype: object\n",
      "mode:  0    cellular\n",
      "dtype: object\n",
      "==============================\n",
      "cellular     13212\n",
      "telephone     7587\n",
      "Name: contact, dtype: int64\n"
     ]
    },
    {
     "data": {
      "image/png": "[encoded data removed]",
      "text/plain": [
       "<Figure size 432x288 with 1 Axes>"
      ]
     },
     "metadata": {
      "needs_background": "light"
     },
     "output_type": "display_data"
    },
    {
     "name": "stdout",
     "output_type": "stream",
     "text": [
      "count       20799\n",
      "unique          4\n",
      "top       married\n",
      "freq        12512\n",
      "Name: marital, dtype: object\n",
      "mode:  0    married\n",
      "dtype: object\n",
      "==============================\n",
      "married     12512\n",
      "single       5896\n",
      "divorced     2347\n",
      "unknown        44\n",
      "Name: marital, dtype: int64\n"
     ]
    },
    {
     "data": {
      "image/png": "[encoded data removed]",
      "text/plain": [
       "<Figure size 432x288 with 1 Axes>"
      ]
     },
     "metadata": {
      "needs_background": "light"
     },
     "output_type": "display_data"
    },
    {
     "name": "stdout",
     "output_type": "stream",
     "text": [
      "count                 20799\n",
      "unique                    8\n",
      "top       university.degree\n",
      "freq                   6192\n",
      "Name: education, dtype: object\n",
      "mode:  0    university.degree\n",
      "dtype: object\n",
      "==============================\n",
      "university.degree      6192\n",
      "high.school            4781\n",
      "basic.9y               3016\n",
      "professional.course    2592\n",
      "basic.4y               2154\n",
      "basic.6y               1170\n",
      "unknown                 887\n",
      "illiterate                7\n",
      "Name: education, dtype: int64\n"
     ]
    },
    {
     "data": {
      "image/png": "[encoded data removed]",
      "text/plain": [
       "<Figure size 432x288 with 1 Axes>"
      ]
     },
     "metadata": {
      "needs_background": "light"
     },
     "output_type": "display_data"
    },
    {
     "name": "stdout",
     "output_type": "stream",
     "text": [
      "count     20799\n",
      "unique        3\n",
      "top          no\n",
      "freq      16408\n",
      "Name: default, dtype: object\n",
      "mode:  0    no\n",
      "dtype: object\n",
      "==============================\n",
      "no         16408\n",
      "unknown     4389\n",
      "yes            2\n",
      "Name: default, dtype: int64\n"
     ]
    },
    {
     "data": {
      "image/png": "[encoded data removed]",
      "text/plain": [
       "<Figure size 432x288 with 1 Axes>"
      ]
     },
     "metadata": {
      "needs_background": "light"
     },
     "output_type": "display_data"
    },
    {
     "name": "stdout",
     "output_type": "stream",
     "text": [
      "count     20799\n",
      "unique        3\n",
      "top         yes\n",
      "freq      10923\n",
      "Name: housing, dtype: object\n",
      "mode:  0    yes\n",
      "dtype: object\n",
      "==============================\n",
      "yes        10923\n",
      "no          9386\n",
      "unknown      490\n",
      "Name: housing, dtype: int64\n"
     ]
    },
    {
     "data": {
      "image/png": "[encoded data removed]",
      "text/plain": [
       "<Figure size 432x288 with 1 Axes>"
      ]
     },
     "metadata": {
      "needs_background": "light"
     },
     "output_type": "display_data"
    },
    {
     "name": "stdout",
     "output_type": "stream",
     "text": [
      "count     20799\n",
      "unique        3\n",
      "top          no\n",
      "freq      17122\n",
      "Name: loan, dtype: object\n",
      "mode:  0    no\n",
      "dtype: object\n",
      "==============================\n",
      "no         17122\n",
      "yes         3187\n",
      "unknown      490\n",
      "Name: loan, dtype: int64\n"
     ]
    },
    {
     "data": {
      "image/png": "[encoded data removed]",
      "text/plain": [
       "<Figure size 432x288 with 1 Axes>"
      ]
     },
     "metadata": {
      "needs_background": "light"
     },
     "output_type": "display_data"
    },
    {
     "name": "stdout",
     "output_type": "stream",
     "text": [
      "count           20799\n",
      "unique              3\n",
      "top       nonexistent\n",
      "freq            17983\n",
      "Name: poutcome, dtype: object\n",
      "mode:  0    nonexistent\n",
      "dtype: object\n",
      "==============================\n",
      "nonexistent    17983\n",
      "failure         2143\n",
      "success          673\n",
      "Name: poutcome, dtype: int64\n"
     ]
    },
    {
     "data": {
      "image/png": "[encoded data removed]",
      "text/plain": [
       "<Figure size 432x288 with 1 Axes>"
      ]
     },
     "metadata": {
      "needs_background": "light"
     },
     "output_type": "display_data"
    }
   ],
   "source": [
    "def categorical_summarized(df, y=None, hue=None, verbose=True):\n",
    "    series = df[y]\n",
    "    print(series.describe())\n",
    "    print('mode: ', series.mode())\n",
    "    if verbose:\n",
    "        print('='*30)\n",
    "        print(series.value_counts())\n",
    "    sns.countplot(y=y, hue=hue, data=df, palette=['tab:blue', 'tab:orange'])\n",
    "    plt.show()\n",
    "\n",
    "categorical_features = ['job', 'contact', 'marital', 'education', 'default', 'housing', 'loan', 'poutcome']\n",
    "for feature in categorical_features:\n",
    "    categorical_summarized(data['X_train'], y=feature, hue=data['y_train'])"
   ]
  },
  {
   "cell_type": "markdown",
   "metadata": {},
   "source": [
    "# Distribution of numerical features"
   ]
  },
  {
   "cell_type": "code",
   "execution_count": 4,
   "metadata": {
    "ExecuteTime": {
     "end_time": "2019-12-23T20:01:44.446392Z",
     "start_time": "2019-12-23T20:01:28.704411Z"
    }
   },
   "outputs": [
    {
     "data": {
      "image/png": "[encoded data removed]",
      "text/plain": [
       "<Figure size 720x360 with 1 Axes>"
      ]
     },
     "metadata": {
      "needs_background": "light"
     },
     "output_type": "display_data"
    },
    {
     "data": {
      "image/png": "[encoded data removed]",
      "text/plain": [
       "<Figure size 720x360 with 1 Axes>"
      ]
     },
     "metadata": {
      "needs_background": "light"
     },
     "output_type": "display_data"
    },
    {
     "data": {
      "image/png": "[encoded data removed]",
      "text/plain": [
       "<Figure size 720x360 with 1 Axes>"
      ]
     },
     "metadata": {
      "needs_background": "light"
     },
     "output_type": "display_data"
    },
    {
     "data": {
      "image/png": "[encoded data removed]",
      "text/plain": [
       "<Figure size 720x360 with 1 Axes>"
      ]
     },
     "metadata": {
      "needs_background": "light"
     },
     "output_type": "display_data"
    }
   ],
   "source": [
    "def numerical_densities(X, y, column):\n",
    "    pos, neq = X.loc[y==1, column], X.loc[y==0, column]\n",
    "    \n",
    "    plt.figure(figsize=(10,5))\n",
    "    pos.plot(kind='density', bw_method=0.2, ind=max(X[column])+200)\n",
    "    neq.plot(kind='density', bw_method=0.2, ind=max(X[column])+200)\n",
    "    plt.legend(['y=1', 'y=0'], loc='upper left', fontsize=20)\n",
    "    plt.title(f\"Distribution of {column}\", fontsize=25)\n",
    "    plt.xlabel(column, fontsize=20)\n",
    "    plt.ylabel('Density', fontsize=20)\n",
    "    plt.show()\n",
    " \n",
    "numerical_features = ['campaign', 'pdays', 'previous', 'id']\n",
    "for col in numerical_features:\n",
    "    numerical_densities(data['X_train'], data['y_train'], col)"
   ]
  },
  {
   "cell_type": "markdown",
   "metadata": {},
   "source": [
    "# Data preparation"
   ]
  },
  {
   "cell_type": "markdown",
   "metadata": {},
   "source": [
    "# Categorical data\n",
    "- Dropping variables: default, marital, loan, education, housing since they didn't improved predictions. \n",
    "- For job feature I've created mapping corresponding to the distribution presented below.\n",
    "- Additionaly I removed reduntant variables from get_dummies operations. "
   ]
  },
  {
   "cell_type": "code",
   "execution_count": 5,
   "metadata": {
    "ExecuteTime": {
     "end_time": "2019-12-23T20:01:44.800807Z",
     "start_time": "2019-12-23T20:01:44.762824Z"
    }
   },
   "outputs": [
    {
     "name": "stdout",
     "output_type": "stream",
     "text": [
      "student          0.247458\n",
      "retired          0.195212\n",
      "unemployed       0.120567\n",
      "admin.           0.118010\n",
      "unknown          0.116505\n",
      "technician       0.100748\n",
      "housemaid        0.100000\n",
      "self-employed    0.096899\n",
      "management       0.094512\n",
      "entrepreneur     0.088127\n",
      "services         0.074675\n",
      "blue-collar      0.064574\n",
      "Name: job, dtype: float64\n"
     ]
    }
   ],
   "source": [
    "def print_dist(df, col):\n",
    "    countv = df[col].value_counts()\n",
    "    count1 = df[col][data['y_train']==1].value_counts()\n",
    "    print((count1/(countv+count1)).sort_values(ascending=False))\n",
    "    \n",
    "print_dist(data['X_train'], 'job')"
   ]
  },
  {
   "cell_type": "code",
   "execution_count": 6,
   "metadata": {
    "ExecuteTime": {
     "end_time": "2019-12-23T20:01:45.156154Z",
     "start_time": "2019-12-23T20:01:45.090084Z"
    }
   },
   "outputs": [
    {
     "data": {
      "text/html": [
       "<div>\n",
       "<style scoped>\n",
       "    .dataframe tbody tr th:only-of-type {\n",
       "        vertical-align: middle;\n",
       "    }\n",
       "\n",
       "    .dataframe tbody tr th {\n",
       "        vertical-align: top;\n",
       "    }\n",
       "\n",
       "    .dataframe thead th {\n",
       "        text-align: right;\n",
       "    }\n",
       "</style>\n",
       "<table border=\"1\" class=\"dataframe\">\n",
       "  <thead>\n",
       "    <tr style=\"text-align: right;\">\n",
       "      <th></th>\n",
       "      <th>job</th>\n",
       "      <th>contact_cellular</th>\n",
       "      <th>poutcome_nonexistent</th>\n",
       "      <th>poutcome_success</th>\n",
       "    </tr>\n",
       "  </thead>\n",
       "  <tbody>\n",
       "    <tr>\n",
       "      <td>40395</td>\n",
       "      <td>3</td>\n",
       "      <td>1</td>\n",
       "      <td>0</td>\n",
       "      <td>1</td>\n",
       "    </tr>\n",
       "    <tr>\n",
       "      <td>33240</td>\n",
       "      <td>7</td>\n",
       "      <td>1</td>\n",
       "      <td>1</td>\n",
       "      <td>0</td>\n",
       "    </tr>\n",
       "    <tr>\n",
       "      <td>10883</td>\n",
       "      <td>3</td>\n",
       "      <td>0</td>\n",
       "      <td>1</td>\n",
       "      <td>0</td>\n",
       "    </tr>\n",
       "    <tr>\n",
       "      <td>18517</td>\n",
       "      <td>9</td>\n",
       "      <td>1</td>\n",
       "      <td>1</td>\n",
       "      <td>0</td>\n",
       "    </tr>\n",
       "    <tr>\n",
       "      <td>8404</td>\n",
       "      <td>9</td>\n",
       "      <td>0</td>\n",
       "      <td>1</td>\n",
       "      <td>0</td>\n",
       "    </tr>\n",
       "  </tbody>\n",
       "</table>\n",
       "</div>"
      ],
      "text/plain": [
       "       job  contact_cellular  poutcome_nonexistent  poutcome_success\n",
       "40395    3                 1                     0                 1\n",
       "33240    7                 1                     1                 0\n",
       "10883    3                 0                     1                 0\n",
       "18517    9                 1                     1                 0\n",
       "8404     9                 0                     1                 0"
      ]
     },
     "execution_count": 6,
     "metadata": {},
     "output_type": "execute_result"
    }
   ],
   "source": [
    "def transform_categorical(df):\n",
    "    X = df.copy()\n",
    "    X = X[categorical_features]\n",
    "    X = X.drop(['default', 'housing', 'education', 'loan', 'marital'], axis=1)\n",
    "    \n",
    "    replace_map = {\n",
    "         'job': {'student': 1, 'retired': 2, 'unemployed': 3, 'admin.': 3, 'unknown': 3,\n",
    "                   'technician': 4, 'housemaid': 4, 'self-employed': 5, 'management': 6,\n",
    "                   'entrepreneur': 7, 'services': 8, 'blue-collar': 9\n",
    "                }\n",
    "    }\n",
    "    \n",
    "    X.replace(replace_map, inplace=True)\n",
    "    X = pd.get_dummies(X)  \n",
    "    X = X.drop(['contact_telephone', 'poutcome_failure'], axis=1)\n",
    "    \n",
    "    return X\n",
    "\n",
    "X_cat=transform_categorical(data['X_train'])\n",
    "X_cat.head()"
   ]
  },
  {
   "cell_type": "markdown",
   "metadata": {},
   "source": [
    "# Date\n",
    "- Creating variables: \n",
    "    - days passed since contact_date\n",
    "    - month of contact_date (maper created in similar manaer as for job)\n",
    "\n",
    "I've also tried adding variables like age, day of week, day of month, year but they didn't improve predictions"
   ]
  },
  {
   "cell_type": "code",
   "execution_count": 7,
   "metadata": {
    "ExecuteTime": {
     "end_time": "2019-12-23T20:01:45.611493Z",
     "start_time": "2019-12-23T20:01:45.448828Z"
    }
   },
   "outputs": [
    {
     "data": {
      "text/html": [
       "<div>\n",
       "<style scoped>\n",
       "    .dataframe tbody tr th:only-of-type {\n",
       "        vertical-align: middle;\n",
       "    }\n",
       "\n",
       "    .dataframe tbody tr th {\n",
       "        vertical-align: top;\n",
       "    }\n",
       "\n",
       "    .dataframe thead th {\n",
       "        text-align: right;\n",
       "    }\n",
       "</style>\n",
       "<table border=\"1\" class=\"dataframe\">\n",
       "  <thead>\n",
       "    <tr style=\"text-align: right;\">\n",
       "      <th></th>\n",
       "      <th>cdays_elapsed</th>\n",
       "      <th>month</th>\n",
       "    </tr>\n",
       "  </thead>\n",
       "  <tbody>\n",
       "    <tr>\n",
       "      <td>40395</td>\n",
       "      <td>39</td>\n",
       "      <td>5</td>\n",
       "    </tr>\n",
       "    <tr>\n",
       "      <td>33240</td>\n",
       "      <td>189</td>\n",
       "      <td>7</td>\n",
       "    </tr>\n",
       "    <tr>\n",
       "      <td>10883</td>\n",
       "      <td>303</td>\n",
       "      <td>5</td>\n",
       "    </tr>\n",
       "    <tr>\n",
       "      <td>18517</td>\n",
       "      <td>291</td>\n",
       "      <td>6</td>\n",
       "    </tr>\n",
       "    <tr>\n",
       "      <td>8404</td>\n",
       "      <td>301</td>\n",
       "      <td>5</td>\n",
       "    </tr>\n",
       "  </tbody>\n",
       "</table>\n",
       "</div>"
      ],
      "text/plain": [
       "       cdays_elapsed  month\n",
       "40395             39      5\n",
       "33240            189      7\n",
       "10883            303      5\n",
       "18517            291      6\n",
       "8404             301      5"
      ]
     },
     "execution_count": 7,
     "metadata": {},
     "output_type": "execute_result"
    }
   ],
   "source": [
    "def transform_date(df):\n",
    "    X = df.copy() \n",
    "    cdate = X['contact_date']\n",
    "    bdate = X['birth_date']\n",
    "    \n",
    "    df_date = pd.DataFrame(\n",
    "        {\n",
    "         'cdays_elapsed': ((max(cdate)-cdate)/(3*np.timedelta64(1, 'D'))).astype(int),\n",
    "         'month': cdate.dt.month, \n",
    "        }) \n",
    "\n",
    "    df_date['month'].replace({12:1, 3:2, 10:3, 9:3, 4:4, 8:5, 6:5, 11:5, 7:6, 5:7}, inplace=True)\n",
    "\n",
    "    return df_date\n",
    "\n",
    "X_date=transform_date(data['X_train'])\n",
    "X_date.head()"
   ]
  },
  {
   "cell_type": "markdown",
   "metadata": {},
   "source": [
    "# Some util functions for testing models"
   ]
  },
  {
   "cell_type": "code",
   "execution_count": 29,
   "metadata": {
    "ExecuteTime": {
     "end_time": "2019-12-23T20:13:28.285255Z",
     "start_time": "2019-12-23T20:13:27.803044Z"
    }
   },
   "outputs": [
    {
     "data": {
      "text/html": [
       "<div>\n",
       "<style scoped>\n",
       "    .dataframe tbody tr th:only-of-type {\n",
       "        vertical-align: middle;\n",
       "    }\n",
       "\n",
       "    .dataframe tbody tr th {\n",
       "        vertical-align: top;\n",
       "    }\n",
       "\n",
       "    .dataframe thead th {\n",
       "        text-align: right;\n",
       "    }\n",
       "</style>\n",
       "<table border=\"1\" class=\"dataframe\">\n",
       "  <thead>\n",
       "    <tr style=\"text-align: right;\">\n",
       "      <th></th>\n",
       "      <th>job</th>\n",
       "      <th>contact_cellular</th>\n",
       "      <th>poutcome_nonexistent</th>\n",
       "      <th>poutcome_success</th>\n",
       "      <th>cdays_elapsed</th>\n",
       "      <th>month</th>\n",
       "      <th>pdays</th>\n",
       "      <th>campaign</th>\n",
       "      <th>id</th>\n",
       "    </tr>\n",
       "  </thead>\n",
       "  <tbody>\n",
       "    <tr>\n",
       "      <td>40395</td>\n",
       "      <td>3</td>\n",
       "      <td>1</td>\n",
       "      <td>0</td>\n",
       "      <td>1</td>\n",
       "      <td>39</td>\n",
       "      <td>5</td>\n",
       "      <td>0</td>\n",
       "      <td>1</td>\n",
       "      <td>13465</td>\n",
       "    </tr>\n",
       "    <tr>\n",
       "      <td>33240</td>\n",
       "      <td>7</td>\n",
       "      <td>1</td>\n",
       "      <td>1</td>\n",
       "      <td>0</td>\n",
       "      <td>189</td>\n",
       "      <td>7</td>\n",
       "      <td>199</td>\n",
       "      <td>0</td>\n",
       "      <td>11080</td>\n",
       "    </tr>\n",
       "    <tr>\n",
       "      <td>10883</td>\n",
       "      <td>3</td>\n",
       "      <td>0</td>\n",
       "      <td>1</td>\n",
       "      <td>0</td>\n",
       "      <td>303</td>\n",
       "      <td>5</td>\n",
       "      <td>199</td>\n",
       "      <td>2</td>\n",
       "      <td>3628</td>\n",
       "    </tr>\n",
       "    <tr>\n",
       "      <td>18517</td>\n",
       "      <td>9</td>\n",
       "      <td>1</td>\n",
       "      <td>1</td>\n",
       "      <td>0</td>\n",
       "      <td>291</td>\n",
       "      <td>6</td>\n",
       "      <td>199</td>\n",
       "      <td>0</td>\n",
       "      <td>6172</td>\n",
       "    </tr>\n",
       "    <tr>\n",
       "      <td>8404</td>\n",
       "      <td>9</td>\n",
       "      <td>0</td>\n",
       "      <td>1</td>\n",
       "      <td>0</td>\n",
       "      <td>301</td>\n",
       "      <td>5</td>\n",
       "      <td>199</td>\n",
       "      <td>1</td>\n",
       "      <td>2801</td>\n",
       "    </tr>\n",
       "  </tbody>\n",
       "</table>\n",
       "</div>"
      ],
      "text/plain": [
       "       job  contact_cellular  poutcome_nonexistent  poutcome_success  \\\n",
       "40395    3                 1                     0                 1   \n",
       "33240    7                 1                     1                 0   \n",
       "10883    3                 0                     1                 0   \n",
       "18517    9                 1                     1                 0   \n",
       "8404     9                 0                     1                 0   \n",
       "\n",
       "       cdays_elapsed  month  pdays  campaign     id  \n",
       "40395             39      5      0         1  13465  \n",
       "33240            189      7    199         0  11080  \n",
       "10883            303      5    199         2   3628  \n",
       "18517            291      6    199         0   6172  \n",
       "8404             301      5    199         1   2801  "
      ]
     },
     "execution_count": 29,
     "metadata": {},
     "output_type": "execute_result"
    }
   ],
   "source": [
    "def plot_importance(model):\n",
    "    features = X_train.columns\n",
    "    importances = model.feature_importances_\n",
    "    indices = np.argsort(importances)\n",
    "\n",
    "    plt.title('Feature Importances')\n",
    "    plt.barh(range(len(indices)), importances[indices], color='b', align='center')\n",
    "    plt.yticks(range(len(indices)), [features[i] for i in indices])\n",
    "    plt.xlabel('Relative Importance')\n",
    "    plt.show()\n",
    "    \n",
    "def cross_val(model, cv=4):\n",
    "    cv_results=cross_validate(model, X_train, data['y_train'], scoring='roc_auc', cv=cv, n_jobs=-1)\n",
    "    print(f\"CV AUC = {np.mean(cv_results['test_score'])}\")\n",
    "    \n",
    "def predict(model, verbose=True):\n",
    "    model.fit(X_train, data['y_train'])\n",
    "    y_pred = model.predict_proba(X_test)\n",
    "    if verbose:\n",
    "        plot_importance(model)\n",
    "    return np.array(y_pred[:,1])\n",
    "\n",
    "def prepare_submit(preds, name):\n",
    "    data = {'id': X_test.index.values+1, 'y': preds.tolist()}\n",
    "    df = pd.DataFrame(data)\n",
    "    df.to_csv(name, index=False)\n",
    "          \n",
    "def prepare_data(df):\n",
    "    df_cat = transform_categorical(df)\n",
    "    df_date = transform_date(df)\n",
    "    df_num = df[['pdays', 'campaign', 'id']]\n",
    "    df_num = df_num.assign(campaign=df_num['campaign'] // 3, pdays=df_num['pdays'] // 5, id=df_num['id'] // 3)\n",
    "    df_transf = pd.concat([df_cat, df_date, df_num], axis=1)\n",
    "    return df_transf\n",
    "\n",
    "def get_prepared_data(path):\n",
    "    data = load_data(path, verbose=False)\n",
    "    X_train, y_train, X_test = prepare_data(data['X_train']), data['y_train'], prepare_data(data['X_test'])\n",
    "    return X_train, y_train, X_test\n",
    "\n",
    "X_train, y_train, X_test = get_prepared_data(\"data/bank-classification.csv\")\n",
    "X_train.head()"
   ]
  },
  {
   "cell_type": "markdown",
   "metadata": {},
   "source": [
    "# Models definition"
   ]
  },
  {
   "cell_type": "code",
   "execution_count": 9,
   "metadata": {
    "ExecuteTime": {
     "end_time": "2019-12-23T20:01:46.907830Z",
     "start_time": "2019-12-23T20:01:46.899207Z"
    }
   },
   "outputs": [],
   "source": [
    "rfc = RandomForestClassifier(n_estimators=500, max_depth=9, min_samples_leaf=6, class_weight=\"balanced\",  random_state=0, n_jobs=-1)\n",
    "gbm = GradientBoostingClassifier(n_estimators=139, learning_rate=0.04, max_depth=7, min_samples_leaf=10, subsample=0.69, random_state=0)\n",
    "xgb = XGBClassifier(booster='gbtree', max_depth=6, learning_rate=0.07, max_delta_step=4, n_estimators=100, reg_alpha=0.1, reg_lambda=0.1, random_state=0)"
   ]
  },
  {
   "cell_type": "markdown",
   "metadata": {},
   "source": [
    "# Evaluating models"
   ]
  },
  {
   "cell_type": "code",
   "execution_count": 30,
   "metadata": {
    "ExecuteTime": {
     "end_time": "2019-12-23T20:13:51.339403Z",
     "start_time": "2019-12-23T20:13:35.033448Z"
    }
   },
   "outputs": [
    {
     "name": "stdout",
     "output_type": "stream",
     "text": [
      "CV AUC = 0.8051289990097301\n"
     ]
    }
   ],
   "source": [
    "cross_val(rfc)"
   ]
  },
  {
   "cell_type": "code",
   "execution_count": 31,
   "metadata": {
    "ExecuteTime": {
     "end_time": "2019-12-23T20:13:58.891977Z",
     "start_time": "2019-12-23T20:13:51.806688Z"
    }
   },
   "outputs": [
    {
     "name": "stdout",
     "output_type": "stream",
     "text": [
      "CV AUC = 0.8041147335370726\n"
     ]
    }
   ],
   "source": [
    "cross_val(gbm)"
   ]
  },
  {
   "cell_type": "code",
   "execution_count": 32,
   "metadata": {
    "ExecuteTime": {
     "end_time": "2019-12-23T20:14:03.299853Z",
     "start_time": "2019-12-23T20:13:59.350958Z"
    }
   },
   "outputs": [
    {
     "name": "stdout",
     "output_type": "stream",
     "text": [
      "CV AUC = 0.8010269970005734\n"
     ]
    }
   ],
   "source": [
    "cross_val(xgb)"
   ]
  },
  {
   "cell_type": "markdown",
   "metadata": {},
   "source": [
    "# Feature importance plots"
   ]
  },
  {
   "cell_type": "code",
   "execution_count": 36,
   "metadata": {
    "ExecuteTime": {
     "end_time": "2019-12-23T20:18:21.502006Z",
     "start_time": "2019-12-23T20:18:16.476281Z"
    }
   },
   "outputs": [
    {
     "data": {
      "image/png": "[encoded data removed]",
      "text/plain": [
       "<Figure size 432x288 with 1 Axes>"
      ]
     },
     "metadata": {
      "needs_background": "light"
     },
     "output_type": "display_data"
    }
   ],
   "source": [
    "rfc_pred=predict(rfc)"
   ]
  },
  {
   "cell_type": "code",
   "execution_count": 37,
   "metadata": {
    "ExecuteTime": {
     "end_time": "2019-12-23T20:18:25.157189Z",
     "start_time": "2019-12-23T20:18:22.044895Z"
    }
   },
   "outputs": [
    {
     "data": {
      "image/png": "[encoded data removed]",
      "text/plain": [
       "<Figure size 432x288 with 1 Axes>"
      ]
     },
     "metadata": {
      "needs_background": "light"
     },
     "output_type": "display_data"
    }
   ],
   "source": [
    "xgb_pred=predict(xgb)"
   ]
  },
  {
   "cell_type": "code",
   "execution_count": 38,
   "metadata": {
    "ExecuteTime": {
     "end_time": "2019-12-23T20:18:30.543076Z",
     "start_time": "2019-12-23T20:18:25.616513Z"
    }
   },
   "outputs": [
    {
     "data": {
      "image/png": "[encoded data removed]",
      "text/plain": [
       "<Figure size 432x288 with 1 Axes>"
      ]
     },
     "metadata": {
      "needs_background": "light"
     },
     "output_type": "display_data"
    }
   ],
   "source": [
    "gbm_pred=predict(gbm)"
   ]
  },
  {
   "cell_type": "markdown",
   "metadata": {},
   "source": [
    "# Final predictions"
   ]
  },
  {
   "cell_type": "code",
   "execution_count": 33,
   "metadata": {
    "ExecuteTime": {
     "end_time": "2019-12-23T20:14:10.737706Z",
     "start_time": "2019-12-23T20:14:10.731137Z"
    }
   },
   "outputs": [],
   "source": [
    "ensamble = np.mean([rfc_pred, xgb_pred, gbm_pred], axis=0)"
   ]
  },
  {
   "cell_type": "code",
   "execution_count": 34,
   "metadata": {
    "ExecuteTime": {
     "end_time": "2019-12-23T20:14:11.363877Z",
     "start_time": "2019-12-23T20:14:11.232100Z"
    }
   },
   "outputs": [],
   "source": [
    "prepare_submit(ensamble, 'ensamble.csv')"
   ]
  },
  {
   "cell_type": "code",
   "execution_count": 35,
   "metadata": {
    "ExecuteTime": {
     "end_time": "2019-12-23T20:14:11.973433Z",
     "start_time": "2019-12-23T20:14:11.851458Z"
    }
   },
   "outputs": [],
   "source": [
    "prepare_submit(gbm_pred, 'gbm.csv')"
   ]
  },
  {
   "cell_type": "code",
   "execution_count": null,
   "metadata": {},
   "outputs": [],
   "source": []
  }
 ],
 "metadata": {
  "kernelspec": {
   "display_name": "Python 3",
   "language": "python",
   "name": "python3"
  },
  "language_info": {
   "codemirror_mode": {
    "name": "ipython",
    "version": 3
   },
   "file_extension": ".py",
   "mimetype": "text/x-python",
   "name": "python",
   "nbconvert_exporter": "python",
   "pygments_lexer": "ipython3",
   "version": "3.7.4"
  },
  "varInspector": {
   "cols": {
    "lenName": 16,
    "lenType": 16,
    "lenVar": 40
   },
   "kernels_config": {
    "python": {
     "delete_cmd_postfix": "",
     "delete_cmd_prefix": "del ",
     "library": "var_list.py",
     "varRefreshCmd": "print(var_dic_list())"
    },
    "r": {
     "delete_cmd_postfix": ") ",
     "delete_cmd_prefix": "rm(",
     "library": "var_list.r",
     "varRefreshCmd": "cat(var_dic_list()) "
    }
   },
   "types_to_exclude": [
    "module",
    "function",
    "builtin_function_or_method",
    "instance",
    "_Feature"
   ],
   "window_display": false
  }
 },
 "nbformat": 4,
 "nbformat_minor": 4
}
